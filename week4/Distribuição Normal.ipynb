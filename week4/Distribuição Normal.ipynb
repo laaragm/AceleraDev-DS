{
 "cells": [
  {
   "cell_type": "code",
   "execution_count": 13,
   "metadata": {},
   "outputs": [],
   "source": [
    "#Distribuição em que a média dos dados se encontra no centro(simétrica)\n",
    "#Área sob essa curva determina a probabilidade de ocorrer o evento por ela correlacionado. \n",
    "#Soma da área sob a curva de densidade igual a 1\n",
    "\n",
    "from scipy import stats\n",
    "from scipy.stats import norm\n",
    "import matplotlib.pyplot as plt"
   ]
  },
  {
   "cell_type": "code",
   "execution_count": 3,
   "metadata": {},
   "outputs": [
    {
     "data": {
      "text/plain": [
       "0.15865525393145707"
      ]
     },
     "execution_count": 3,
     "metadata": {},
     "output_type": "execute_result"
    }
   ],
   "source": [
    "#Conjunto de objetos em uma cesta, média=8, dp=2\n",
    "#Qual a probabilidade de tirar um objeto cujo peso é menor que 6kg?\n",
    "#cdf: Cumulative distribution function; descreve a probabilidade acumulada de uma variável aleatória tomar \n",
    "#um conjunto de valores dado; norm: distribuição normal\n",
    "norm.cdf(6, 8, 2) #norm params: valor que queremos retirar, média, desvio padrão\n",
    "#Probabilidade de 15%"
   ]
  },
  {
   "cell_type": "code",
   "execution_count": 7,
   "metadata": {},
   "outputs": [
    {
     "data": {
      "text/plain": [
       "0.8413447460685429"
      ]
     },
     "execution_count": 7,
     "metadata": {},
     "output_type": "execute_result"
    }
   ],
   "source": [
    "#Qual a probabilidade de tirar um objeto cujo peso é maior que 6kg?\n",
    "#quanto utilizamos o conceito de maior usamos a função sf (survival function)\n",
    "norm.sf(6, 8, 2) #ou poderia também fazer: 1 - norm.cdf(6, 8, 2)\n",
    "\n",
    "#Trabalhando com a parte da esquerda (conceito de menor): cdf\n",
    "#Trabalhando com a parte da direita (conceito de maior): sf ou 1 - cdf"
   ]
  },
  {
   "cell_type": "code",
   "execution_count": 9,
   "metadata": {},
   "outputs": [
    {
     "data": {
      "text/plain": [
       "0.31731050786291415"
      ]
     },
     "execution_count": 9,
     "metadata": {},
     "output_type": "execute_result"
    }
   ],
   "source": [
    "#Qual a probabilidade de tirar um objeto que o peso é menor que 6 ou maior qur 10kg?\n",
    "prob_menor_que_6 = norm.cdf(6, 8, 2) #valor menor, então cdf\n",
    "prob_maior_que_10 = norm.sf(10, 8, 2) #valor maior, então sf\n",
    "prob_menor_que_6 + prob_maior_que_10 "
   ]
  },
  {
   "cell_type": "code",
   "execution_count": 11,
   "metadata": {},
   "outputs": [
    {
     "data": {
      "text/plain": [
       "0.3413447460685429"
      ]
     },
     "execution_count": 11,
     "metadata": {},
     "output_type": "execute_result"
    }
   ],
   "source": [
    "#Qual a probabilidade de tirar um objeto menor que 10 e maior que 8kg?\n",
    "menor_que_10 = norm.cdf(10, 8, 2)\n",
    "maior_que_8 = norm.sf(8, 8, 2)\n",
    "menor_que_10 - maior_que_8 #como é entre 8 e 10, fazemos uma subtração"
   ]
  },
  {
   "cell_type": "code",
   "execution_count": 15,
   "metadata": {},
   "outputs": [
    {
     "data": {
      "text/plain": [
       "array([ 0.55308582, -0.9964354 ,  0.32819818,  0.57416416, -0.89428577,\n",
       "       -1.3267392 , -1.53802698, -1.42991889,  1.5501126 , -1.12299087,\n",
       "        1.0003639 , -1.44773307,  0.23809702,  0.73833695,  0.83417053,\n",
       "       -1.11559193, -0.16585426, -0.21902583,  1.89083101, -0.13098284,\n",
       "       -1.7892751 ,  0.64671044,  0.57831902,  0.28211165,  1.07203232,\n",
       "       -2.37287134,  0.18291751, -0.03549049, -0.23791602, -0.88803764,\n",
       "        0.64320053, -0.90095535,  0.22212884, -1.07866945, -0.044332  ,\n",
       "        0.086848  ,  1.88200799,  2.1723581 , -0.8057745 ,  0.11409976,\n",
       "        0.36688395, -0.97739327,  0.28455692,  1.9910981 , -1.50456298,\n",
       "        1.18637186, -0.35463029, -0.97698532, -1.29455048, -0.5161806 ,\n",
       "        0.96148676, -1.3987546 ,  0.40329364,  1.06366991, -0.27233931,\n",
       "       -1.81497223,  1.88084434,  0.33515802, -0.68892149,  0.29290551,\n",
       "        1.0970796 ,  0.66835397,  0.14946006,  1.2692588 , -0.85268563,\n",
       "       -0.98016401, -0.4480757 , -1.55530498,  1.68255038,  0.35013555,\n",
       "       -0.32979525,  0.85326258, -0.17771924, -0.23081984, -2.26594929,\n",
       "        0.72749764, -0.65689413,  1.4848741 ,  0.63580227, -0.32744064,\n",
       "       -0.10808382,  0.88417055, -1.3006237 ,  0.71247587,  0.55331145,\n",
       "       -0.76405088, -0.40053259,  0.9193322 , -1.99326701,  0.40175315,\n",
       "       -1.24794735, -0.81021768,  1.29692339, -2.71671811, -1.35278449,\n",
       "       -0.27719338,  0.15814474, -0.82978918,  0.75560187, -0.09554683])"
      ]
     },
     "execution_count": 15,
     "metadata": {},
     "output_type": "execute_result"
    }
   ],
   "source": [
    "#Testes para verificar se a distribuição é normal\n",
    "#rvs: função usada para gerarmos dados nessa distribuição normal\n",
    "dados = norm.rvs(size=100)\n",
    "dados"
   ]
  },
  {
   "cell_type": "code",
   "execution_count": 17,
   "metadata": {},
   "outputs": [
    {
     "data": {
      "image/png": "[encoded data removed]",
      "text/plain": [
       "<Figure size 432x288 with 1 Axes>"
      ]
     },
     "metadata": {
      "needs_background": "light"
     },
     "output_type": "display_data"
    }
   ],
   "source": [
    "stats.probplot(dados, plot=plt)\n",
    "plt.show()\n",
    "#Apesar de alguns dados saírem, a maioria está na linha, portanto é uma distribuição normal"
   ]
  },
  {
   "cell_type": "code",
   "execution_count": 19,
   "metadata": {},
   "outputs": [
    {
     "data": {
      "text/plain": [
       "(0.9900639057159424, 0.6697599291801453)"
      ]
     },
     "execution_count": 19,
     "metadata": {},
     "output_type": "execute_result"
    }
   ],
   "source": [
    "#Teste de Chapiro\n",
    "stats.shapiro(dados)\n",
    "#Valores do teste, lembrando que um valor igual ou acima de 0,5 representa uma distribuição normal"
   ]
  }
 ],
 "metadata": {
  "kernelspec": {
   "display_name": "Python 3",
   "language": "python",
   "name": "python3"
  },
  "language_info": {
   "codemirror_mode": {
    "name": "ipython",
    "version": 3
   },
   "file_extension": ".py",
   "mimetype": "text/x-python",
   "name": "python",
   "nbconvert_exporter": "python",
   "pygments_lexer": "ipython3",
   "version": "3.7.7"
  }
 },
 "nbformat": 4,
 "nbformat_minor": 4
}
