{
 "cells": [
  {
   "cell_type": "code",
   "execution_count": 6,
   "metadata": {},
   "outputs": [],
   "source": [
    "import pandas as pd\n",
    "import numpy as np\n",
    "from math import sqrt\n",
    "import matplotlib.pyplot as plt\n",
    "import scipy.stats as sct\n",
    "import seaborn as sns"
   ]
  },
  {
   "cell_type": "code",
   "execution_count": 9,
   "metadata": {},
   "outputs": [
    {
     "name": "stdout",
     "output_type": "stream",
     "text": [
      "1000\n"
     ]
    },
    {
     "data": {
      "image/png": "[encoded data removed]",
      "text/plain": [
       "<Figure size 432x288 with 1 Axes>"
      ]
     },
     "metadata": {
      "needs_background": "light"
     },
     "output_type": "display_data"
    }
   ],
   "source": [
    "#cria uma distribuição normal \n",
    "#média=10, desvio padrão=3 (como o dp é a raiz quadrada da variância podemos dizer que a variância é 9),\n",
    "#tamanho dessa população é de 1000 valores\n",
    "norm = sct.norm.rvs(loc=10, scale=3, size=1000)\n",
    "print(len(norm))\n",
    "sns.distplot(norm)\n",
    "plt.show()"
   ]
  },
  {
   "cell_type": "code",
   "execution_count": 13,
   "metadata": {},
   "outputs": [
    {
     "data": {
      "text/plain": [
       "(9.944507287758803, 9.181468672127288, 3.0300938388319407)"
      ]
     },
     "execution_count": 13,
     "metadata": {},
     "output_type": "execute_result"
    }
   ],
   "source": [
    "(norm.mean(), norm.var(), norm.std())"
   ]
  },
  {
   "cell_type": "code",
   "execution_count": 12,
   "metadata": {},
   "outputs": [
    {
     "data": {
      "text/plain": [
       "0.2524925375469229"
      ]
     },
     "execution_count": 12,
     "metadata": {},
     "output_type": "execute_result"
    }
   ],
   "source": [
    "#Trabalhando com a probabilidade menor que 8 \n",
    "#Olhando pro gráfico acima, basicamente pegamos a fatia onde está o 8 e calculamos a probabilidade dela (ou de um\n",
    "#valor menor que 8) acontecer \n",
    "#25% é a soma das probabilidades acumuladas (para essa em questão acontecer)\n",
    "sct.norm.cdf(8, loc=10, scale=3)"
   ]
  },
  {
   "cell_type": "code",
   "execution_count": 14,
   "metadata": {},
   "outputs": [
    {
     "data": {
      "text/plain": [
       "0.5"
      ]
     },
     "execution_count": 14,
     "metadata": {},
     "output_type": "execute_result"
    }
   ],
   "source": [
    "#Obviamente, como a distribuição normal é simétrica em torno da média, a probabilidade de assumir um valor \n",
    "#menor ou igual à média é de 50%; sabemos também que a área abaixo da curva é igual a 1\n",
    "sct.norm.cdf(10, loc=10, scale=3)"
   ]
  },
  {
   "cell_type": "code",
   "execution_count": 16,
   "metadata": {},
   "outputs": [
    {
     "data": {
      "image/png": "[encoded data removed]",
      "text/plain": [
       "<Figure size 432x288 with 1 Axes>"
      ]
     },
     "metadata": {
      "needs_background": "light"
     },
     "output_type": "display_data"
    }
   ],
   "source": [
    "#Gráfico da CDF\n",
    "#Basicamente relaciona para todos os valores que X assume, qual a probabilidade acumulada deles acontecerem\n",
    "x = np.linspace(0, 20, num=1000)\n",
    "f = lambda x: sct.norm.cdf(x, loc=10, scale=3)\n",
    "cdf = f(x)\n",
    "\n",
    "sns.lineplot(x, cdf)\n",
    "plt.show()"
   ]
  },
  {
   "cell_type": "code",
   "execution_count": 17,
   "metadata": {},
   "outputs": [
    {
     "data": {
      "text/plain": [
       "0.7475074624530771"
      ]
     },
     "execution_count": 17,
     "metadata": {},
     "output_type": "execute_result"
    }
   ],
   "source": [
    "#Survival Function (probabilidade acumulada de X assumir valores maiores que 8)\n",
    "sct.norm.sf(8, loc=10, scale=3)"
   ]
  },
  {
   "cell_type": "code",
   "execution_count": 18,
   "metadata": {},
   "outputs": [
    {
     "data": {
      "text/plain": [
       "7.976530749411754"
      ]
     },
     "execution_count": 18,
     "metadata": {},
     "output_type": "execute_result"
    }
   ],
   "source": [
    "#Temos então duas formas de trabalhar: \n",
    "# - Passa o valor e chega na probabilidade acumulada\n",
    "# - Passa a probabilidade acumulada e chega no valor\n",
    "#Passaremos nesse exemplo a probabilidade acumulada e obteremos como retorno o valor\n",
    "#que representa essa probabilidade acumulada (conforme nosso gráfico com os dados) \n",
    "#Nesse caso: Qual é o valor que está englobando a probabilidade acumulada de 25% dos nossos dados?\n",
    "sct.norm.ppf(0.25, loc=10, scale=3)"
   ]
  },
  {
   "cell_type": "code",
   "execution_count": 19,
   "metadata": {},
   "outputs": [
    {
     "data": {
      "text/plain": [
       "12.023469250588246"
      ]
     },
     "execution_count": 19,
     "metadata": {},
     "output_type": "execute_result"
    }
   ],
   "source": [
    "#Para saber o quantil para a probabilidade acumulada a partir da causa à direita\n",
    "#Survival function\n",
    "sct.norm.isf(0.25, loc=10, scale=3)"
   ]
  },
  {
   "cell_type": "code",
   "execution_count": 24,
   "metadata": {},
   "outputs": [
    {
     "data": {
      "text/plain": [
       "0.8670466765656644"
      ]
     },
     "execution_count": 24,
     "metadata": {},
     "output_type": "execute_result"
    }
   ],
   "source": [
    "#Distribuição binomial\n",
    "#Exemplo: qual a probabilidade de obtermos no máximo 3 caras em 20 lançamentos de uma moeda viciada, que tem\n",
    "#probabilidade 0.1 de sair cara?\n",
    "sum(sct.binom.pmf(i, 20, 0.1) for i in range(4))"
   ]
  },
  {
   "cell_type": "code",
   "execution_count": 23,
   "metadata": {},
   "outputs": [
    {
     "data": {
      "text/plain": [
       "0.867046676565665"
      ]
     },
     "execution_count": 23,
     "metadata": {},
     "output_type": "execute_result"
    }
   ],
   "source": [
    "#Outra forma de calcular o experimento realizado acima\n",
    "sct.binom.cdf(3, 20, 0.1)"
   ]
  },
  {
   "cell_type": "code",
   "execution_count": 25,
   "metadata": {},
   "outputs": [
    {
     "data": {
      "text/plain": [
       "7.15090402103602e-06"
      ]
     },
     "execution_count": 25,
     "metadata": {},
     "output_type": "execute_result"
    }
   ],
   "source": [
    "#Qual a probabilidade de obtermos pelo menos 10 sucessos em 20 lançamentos da mesma moeda viciada acima?\n",
    "1 - sct.binom.cdf(9, 20, 0.1)"
   ]
  },
  {
   "cell_type": "code",
   "execution_count": 26,
   "metadata": {},
   "outputs": [
    {
     "data": {
      "text/plain": [
       "7.150904021083785e-06"
      ]
     },
     "execution_count": 26,
     "metadata": {},
     "output_type": "execute_result"
    }
   ],
   "source": [
    "#Probabilidade a partir da cauda à direita (e elimina a necessidade de subtrair o resultado de 1)\n",
    "sct.binom.sf(9, 20, 0.1)"
   ]
  }
 ],
 "metadata": {
  "kernelspec": {
   "display_name": "Python 3",
   "language": "python",
   "name": "python3"
  },
  "language_info": {
   "codemirror_mode": {
    "name": "ipython",
    "version": 3
   },
   "file_extension": ".py",
   "mimetype": "text/x-python",
   "name": "python",
   "nbconvert_exporter": "python",
   "pygments_lexer": "ipython3",
   "version": "3.7.7"
  }
 },
 "nbformat": 4,
 "nbformat_minor": 4
}
